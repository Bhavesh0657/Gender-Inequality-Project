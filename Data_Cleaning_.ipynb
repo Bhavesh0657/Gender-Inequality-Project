{
  "nbformat": 4,
  "nbformat_minor": 0,
  "metadata": {
    "colab": {
      "provenance": []
    },
    "kernelspec": {
      "name": "python3",
      "display_name": "Python 3"
    },
    "language_info": {
      "name": "python"
    }
  },
  "cells": [
    {
      "cell_type": "code",
      "execution_count": null,
      "metadata": {
        "id": "VN52i010nWA0"
      },
      "outputs": [],
      "source": [
        "# Importing necessary libraries\n",
        "\n",
        "import numpy as np\n",
        "import pandas as pd\n",
        "import seaborn as sns\n",
        "import os\n",
        "import matplotlib.pyplot as plt"
      ]
    },
    {
      "cell_type": "markdown",
      "source": [
        "## Loading the dataset"
      ],
      "metadata": {
        "id": "JL8iSpeUoTMS"
      }
    },
    {
      "cell_type": "markdown",
      "source": [
        "Data Set Source:\n",
        "\n",
        "https://www.kaggle.com/datasets/gianinamariapetrascu/gender-inequality-index/data"
      ],
      "metadata": {
        "id": "Etrenp65oYfR"
      }
    },
    {
      "cell_type": "code",
      "source": [
        " # Reading as df with pandas\n",
        "\n",
        "gender_df = pd.read_csv('/content/Gender_Inequality_Index.csv')"
      ],
      "metadata": {
        "id": "EvG-RrOBoI_q"
      },
      "execution_count": null,
      "outputs": []
    },
    {
      "cell_type": "markdown",
      "source": [
        "## Data understanding"
      ],
      "metadata": {
        "id": "tZLw_-uKxtKZ"
      }
    },
    {
      "cell_type": "code",
      "source": [
        "gender_df.head(5)"
      ],
      "metadata": {
        "colab": {
          "base_uri": "https://localhost:8080/",
          "height": 226
        },
        "id": "TYJ8dwQ7o3cO",
        "outputId": "8bbc2d80-8d0a-4331-a879-84d51180be70"
      },
      "execution_count": null,
      "outputs": [
        {
          "output_type": "execute_result",
          "data": {
            "text/plain": [
              "       Country Human_development    GII  Rank  Maternal_mortality  \\\n",
              "0  Switzerland         Very high  0.018   3.0                 5.0   \n",
              "1       Norway         Very high  0.016   2.0                 2.0   \n",
              "2      Iceland         Very high  0.043   8.0                 4.0   \n",
              "3    Hong Kong         Very high    NaN   NaN                 NaN   \n",
              "4    Australia         Very high  0.073  19.0                 6.0   \n",
              "\n",
              "   Adolescent_birth_rate  Seats_parliament  F_secondary_educ  \\\n",
              "0                    2.2              39.8              96.9   \n",
              "1                    2.3              45.0              99.1   \n",
              "2                    5.4              47.6              99.8   \n",
              "3                    1.6               NaN              77.1   \n",
              "4                    8.1              37.9              94.6   \n",
              "\n",
              "   M_secondary_educ  F_Labour_force  M_Labour_force  \n",
              "0              97.5            61.7            72.7  \n",
              "1              99.3            60.3            72.0  \n",
              "2              99.7            61.7            70.5  \n",
              "3              83.4            53.5            65.8  \n",
              "4              94.4            61.1            70.5  "
            ],
            "text/html": [
              "\n",
              "  <div id=\"df-8083fdec-8d29-44d2-b7fb-f1808d918180\" class=\"colab-df-container\">\n",
              "    <div>\n",
              "<style scoped>\n",
              "    .dataframe tbody tr th:only-of-type {\n",
              "        vertical-align: middle;\n",
              "    }\n",
              "\n",
              "    .dataframe tbody tr th {\n",
              "        vertical-align: top;\n",
              "    }\n",
              "\n",
              "    .dataframe thead th {\n",
              "        text-align: right;\n",
              "    }\n",
              "</style>\n",
              "<table border=\"1\" class=\"dataframe\">\n",
              "  <thead>\n",
              "    <tr style=\"text-align: right;\">\n",
              "      <th></th>\n",
              "      <th>Country</th>\n",
              "      <th>Human_development</th>\n",
              "      <th>GII</th>\n",
              "      <th>Rank</th>\n",
              "      <th>Maternal_mortality</th>\n",
              "      <th>Adolescent_birth_rate</th>\n",
              "      <th>Seats_parliament</th>\n",
              "      <th>F_secondary_educ</th>\n",
              "      <th>M_secondary_educ</th>\n",
              "      <th>F_Labour_force</th>\n",
              "      <th>M_Labour_force</th>\n",
              "    </tr>\n",
              "  </thead>\n",
              "  <tbody>\n",
              "    <tr>\n",
              "      <th>0</th>\n",
              "      <td>Switzerland</td>\n",
              "      <td>Very high</td>\n",
              "      <td>0.018</td>\n",
              "      <td>3.0</td>\n",
              "      <td>5.0</td>\n",
              "      <td>2.2</td>\n",
              "      <td>39.8</td>\n",
              "      <td>96.9</td>\n",
              "      <td>97.5</td>\n",
              "      <td>61.7</td>\n",
              "      <td>72.7</td>\n",
              "    </tr>\n",
              "    <tr>\n",
              "      <th>1</th>\n",
              "      <td>Norway</td>\n",
              "      <td>Very high</td>\n",
              "      <td>0.016</td>\n",
              "      <td>2.0</td>\n",
              "      <td>2.0</td>\n",
              "      <td>2.3</td>\n",
              "      <td>45.0</td>\n",
              "      <td>99.1</td>\n",
              "      <td>99.3</td>\n",
              "      <td>60.3</td>\n",
              "      <td>72.0</td>\n",
              "    </tr>\n",
              "    <tr>\n",
              "      <th>2</th>\n",
              "      <td>Iceland</td>\n",
              "      <td>Very high</td>\n",
              "      <td>0.043</td>\n",
              "      <td>8.0</td>\n",
              "      <td>4.0</td>\n",
              "      <td>5.4</td>\n",
              "      <td>47.6</td>\n",
              "      <td>99.8</td>\n",
              "      <td>99.7</td>\n",
              "      <td>61.7</td>\n",
              "      <td>70.5</td>\n",
              "    </tr>\n",
              "    <tr>\n",
              "      <th>3</th>\n",
              "      <td>Hong Kong</td>\n",
              "      <td>Very high</td>\n",
              "      <td>NaN</td>\n",
              "      <td>NaN</td>\n",
              "      <td>NaN</td>\n",
              "      <td>1.6</td>\n",
              "      <td>NaN</td>\n",
              "      <td>77.1</td>\n",
              "      <td>83.4</td>\n",
              "      <td>53.5</td>\n",
              "      <td>65.8</td>\n",
              "    </tr>\n",
              "    <tr>\n",
              "      <th>4</th>\n",
              "      <td>Australia</td>\n",
              "      <td>Very high</td>\n",
              "      <td>0.073</td>\n",
              "      <td>19.0</td>\n",
              "      <td>6.0</td>\n",
              "      <td>8.1</td>\n",
              "      <td>37.9</td>\n",
              "      <td>94.6</td>\n",
              "      <td>94.4</td>\n",
              "      <td>61.1</td>\n",
              "      <td>70.5</td>\n",
              "    </tr>\n",
              "  </tbody>\n",
              "</table>\n",
              "</div>\n",
              "    <div class=\"colab-df-buttons\">\n",
              "\n",
              "  <div class=\"colab-df-container\">\n",
              "    <button class=\"colab-df-convert\" onclick=\"convertToInteractive('df-8083fdec-8d29-44d2-b7fb-f1808d918180')\"\n",
              "            title=\"Convert this dataframe to an interactive table.\"\n",
              "            style=\"display:none;\">\n",
              "\n",
              "  <svg xmlns=\"http://www.w3.org/2000/svg\" height=\"24px\" viewBox=\"0 -960 960 960\">\n",
              "    <path d=\"M120-120v-720h720v720H120Zm60-500h600v-160H180v160Zm220 220h160v-160H400v160Zm0 220h160v-160H400v160ZM180-400h160v-160H180v160Zm440 0h160v-160H620v160ZM180-180h160v-160H180v160Zm440 0h160v-160H620v160Z\"/>\n",
              "  </svg>\n",
              "    </button>\n",
              "\n",
              "  <style>\n",
              "    .colab-df-container {\n",
              "      display:flex;\n",
              "      gap: 12px;\n",
              "    }\n",
              "\n",
              "    .colab-df-convert {\n",
              "      background-color: #E8F0FE;\n",
              "      border: none;\n",
              "      border-radius: 50%;\n",
              "      cursor: pointer;\n",
              "      display: none;\n",
              "      fill: #1967D2;\n",
              "      height: 32px;\n",
              "      padding: 0 0 0 0;\n",
              "      width: 32px;\n",
              "    }\n",
              "\n",
              "    .colab-df-convert:hover {\n",
              "      background-color: #E2EBFA;\n",
              "      box-shadow: 0px 1px 2px rgba(60, 64, 67, 0.3), 0px 1px 3px 1px rgba(60, 64, 67, 0.15);\n",
              "      fill: #174EA6;\n",
              "    }\n",
              "\n",
              "    .colab-df-buttons div {\n",
              "      margin-bottom: 4px;\n",
              "    }\n",
              "\n",
              "    [theme=dark] .colab-df-convert {\n",
              "      background-color: #3B4455;\n",
              "      fill: #D2E3FC;\n",
              "    }\n",
              "\n",
              "    [theme=dark] .colab-df-convert:hover {\n",
              "      background-color: #434B5C;\n",
              "      box-shadow: 0px 1px 3px 1px rgba(0, 0, 0, 0.15);\n",
              "      filter: drop-shadow(0px 1px 2px rgba(0, 0, 0, 0.3));\n",
              "      fill: #FFFFFF;\n",
              "    }\n",
              "  </style>\n",
              "\n",
              "    <script>\n",
              "      const buttonEl =\n",
              "        document.querySelector('#df-8083fdec-8d29-44d2-b7fb-f1808d918180 button.colab-df-convert');\n",
              "      buttonEl.style.display =\n",
              "        google.colab.kernel.accessAllowed ? 'block' : 'none';\n",
              "\n",
              "      async function convertToInteractive(key) {\n",
              "        const element = document.querySelector('#df-8083fdec-8d29-44d2-b7fb-f1808d918180');\n",
              "        const dataTable =\n",
              "          await google.colab.kernel.invokeFunction('convertToInteractive',\n",
              "                                                    [key], {});\n",
              "        if (!dataTable) return;\n",
              "\n",
              "        const docLinkHtml = 'Like what you see? Visit the ' +\n",
              "          '<a target=\"_blank\" href=https://colab.research.google.com/notebooks/data_table.ipynb>data table notebook</a>'\n",
              "          + ' to learn more about interactive tables.';\n",
              "        element.innerHTML = '';\n",
              "        dataTable['output_type'] = 'display_data';\n",
              "        await google.colab.output.renderOutput(dataTable, element);\n",
              "        const docLink = document.createElement('div');\n",
              "        docLink.innerHTML = docLinkHtml;\n",
              "        element.appendChild(docLink);\n",
              "      }\n",
              "    </script>\n",
              "  </div>\n",
              "\n",
              "\n",
              "<div id=\"df-f8029a74-2e10-4184-9e30-e8f4e9737a25\">\n",
              "  <button class=\"colab-df-quickchart\" onclick=\"quickchart('df-f8029a74-2e10-4184-9e30-e8f4e9737a25')\"\n",
              "            title=\"Suggest charts\"\n",
              "            style=\"display:none;\">\n",
              "\n",
              "<svg xmlns=\"http://www.w3.org/2000/svg\" height=\"24px\"viewBox=\"0 0 24 24\"\n",
              "     width=\"24px\">\n",
              "    <g>\n",
              "        <path d=\"M19 3H5c-1.1 0-2 .9-2 2v14c0 1.1.9 2 2 2h14c1.1 0 2-.9 2-2V5c0-1.1-.9-2-2-2zM9 17H7v-7h2v7zm4 0h-2V7h2v10zm4 0h-2v-4h2v4z\"/>\n",
              "    </g>\n",
              "</svg>\n",
              "  </button>\n",
              "\n",
              "<style>\n",
              "  .colab-df-quickchart {\n",
              "      --bg-color: #E8F0FE;\n",
              "      --fill-color: #1967D2;\n",
              "      --hover-bg-color: #E2EBFA;\n",
              "      --hover-fill-color: #174EA6;\n",
              "      --disabled-fill-color: #AAA;\n",
              "      --disabled-bg-color: #DDD;\n",
              "  }\n",
              "\n",
              "  [theme=dark] .colab-df-quickchart {\n",
              "      --bg-color: #3B4455;\n",
              "      --fill-color: #D2E3FC;\n",
              "      --hover-bg-color: #434B5C;\n",
              "      --hover-fill-color: #FFFFFF;\n",
              "      --disabled-bg-color: #3B4455;\n",
              "      --disabled-fill-color: #666;\n",
              "  }\n",
              "\n",
              "  .colab-df-quickchart {\n",
              "    background-color: var(--bg-color);\n",
              "    border: none;\n",
              "    border-radius: 50%;\n",
              "    cursor: pointer;\n",
              "    display: none;\n",
              "    fill: var(--fill-color);\n",
              "    height: 32px;\n",
              "    padding: 0;\n",
              "    width: 32px;\n",
              "  }\n",
              "\n",
              "  .colab-df-quickchart:hover {\n",
              "    background-color: var(--hover-bg-color);\n",
              "    box-shadow: 0 1px 2px rgba(60, 64, 67, 0.3), 0 1px 3px 1px rgba(60, 64, 67, 0.15);\n",
              "    fill: var(--button-hover-fill-color);\n",
              "  }\n",
              "\n",
              "  .colab-df-quickchart-complete:disabled,\n",
              "  .colab-df-quickchart-complete:disabled:hover {\n",
              "    background-color: var(--disabled-bg-color);\n",
              "    fill: var(--disabled-fill-color);\n",
              "    box-shadow: none;\n",
              "  }\n",
              "\n",
              "  .colab-df-spinner {\n",
              "    border: 2px solid var(--fill-color);\n",
              "    border-color: transparent;\n",
              "    border-bottom-color: var(--fill-color);\n",
              "    animation:\n",
              "      spin 1s steps(1) infinite;\n",
              "  }\n",
              "\n",
              "  @keyframes spin {\n",
              "    0% {\n",
              "      border-color: transparent;\n",
              "      border-bottom-color: var(--fill-color);\n",
              "      border-left-color: var(--fill-color);\n",
              "    }\n",
              "    20% {\n",
              "      border-color: transparent;\n",
              "      border-left-color: var(--fill-color);\n",
              "      border-top-color: var(--fill-color);\n",
              "    }\n",
              "    30% {\n",
              "      border-color: transparent;\n",
              "      border-left-color: var(--fill-color);\n",
              "      border-top-color: var(--fill-color);\n",
              "      border-right-color: var(--fill-color);\n",
              "    }\n",
              "    40% {\n",
              "      border-color: transparent;\n",
              "      border-right-color: var(--fill-color);\n",
              "      border-top-color: var(--fill-color);\n",
              "    }\n",
              "    60% {\n",
              "      border-color: transparent;\n",
              "      border-right-color: var(--fill-color);\n",
              "    }\n",
              "    80% {\n",
              "      border-color: transparent;\n",
              "      border-right-color: var(--fill-color);\n",
              "      border-bottom-color: var(--fill-color);\n",
              "    }\n",
              "    90% {\n",
              "      border-color: transparent;\n",
              "      border-bottom-color: var(--fill-color);\n",
              "    }\n",
              "  }\n",
              "</style>\n",
              "\n",
              "  <script>\n",
              "    async function quickchart(key) {\n",
              "      const quickchartButtonEl =\n",
              "        document.querySelector('#' + key + ' button');\n",
              "      quickchartButtonEl.disabled = true;  // To prevent multiple clicks.\n",
              "      quickchartButtonEl.classList.add('colab-df-spinner');\n",
              "      try {\n",
              "        const charts = await google.colab.kernel.invokeFunction(\n",
              "            'suggestCharts', [key], {});\n",
              "      } catch (error) {\n",
              "        console.error('Error during call to suggestCharts:', error);\n",
              "      }\n",
              "      quickchartButtonEl.classList.remove('colab-df-spinner');\n",
              "      quickchartButtonEl.classList.add('colab-df-quickchart-complete');\n",
              "    }\n",
              "    (() => {\n",
              "      let quickchartButtonEl =\n",
              "        document.querySelector('#df-f8029a74-2e10-4184-9e30-e8f4e9737a25 button');\n",
              "      quickchartButtonEl.style.display =\n",
              "        google.colab.kernel.accessAllowed ? 'block' : 'none';\n",
              "    })();\n",
              "  </script>\n",
              "</div>\n",
              "\n",
              "    </div>\n",
              "  </div>\n"
            ],
            "application/vnd.google.colaboratory.intrinsic+json": {
              "type": "dataframe",
              "variable_name": "gender_df",
              "summary": "{\n  \"name\": \"gender_df\",\n  \"rows\": 195,\n  \"fields\": [\n    {\n      \"column\": \"Country\",\n      \"properties\": {\n        \"dtype\": \"string\",\n        \"num_unique_values\": 194,\n        \"samples\": [\n          \"Namibia\",\n          \"Luxembourg\",\n          \"Comoros\"\n        ],\n        \"semantic_type\": \"\",\n        \"description\": \"\"\n      }\n    },\n    {\n      \"column\": \"Human_development\",\n      \"properties\": {\n        \"dtype\": \"category\",\n        \"num_unique_values\": 4,\n        \"samples\": [\n          \"High\",\n          \"Low\",\n          \"Very high\"\n        ],\n        \"semantic_type\": \"\",\n        \"description\": \"\"\n      }\n    },\n    {\n      \"column\": \"GII\",\n      \"properties\": {\n        \"dtype\": \"number\",\n        \"std\": 0.19710529288811846,\n        \"min\": 0.013,\n        \"max\": 0.82,\n        \"num_unique_values\": 152,\n        \"samples\": [\n          0.303,\n          0.82,\n          0.419\n        ],\n        \"semantic_type\": \"\",\n        \"description\": \"\"\n      }\n    },\n    {\n      \"column\": \"Rank\",\n      \"properties\": {\n        \"dtype\": \"number\",\n        \"std\": 49.21020639567616,\n        \"min\": 1.0,\n        \"max\": 170.0,\n        \"num_unique_values\": 152,\n        \"samples\": [\n          73.0,\n          170.0,\n          101.0\n        ],\n        \"semantic_type\": \"\",\n        \"description\": \"\"\n      }\n    },\n    {\n      \"column\": \"Maternal_mortality\",\n      \"properties\": {\n        \"dtype\": \"number\",\n        \"std\": 233.02886690162643,\n        \"min\": 2.0,\n        \"max\": 1150.0,\n        \"num_unique_values\": 116,\n        \"samples\": [\n          766.0,\n          7.0,\n          120.0\n        ],\n        \"semantic_type\": \"\",\n        \"description\": \"\"\n      }\n    },\n    {\n      \"column\": \"Adolescent_birth_rate\",\n      \"properties\": {\n        \"dtype\": \"number\",\n        \"std\": 38.4224791363994,\n        \"min\": 1.6,\n        \"max\": 170.5,\n        \"num_unique_values\": 177,\n        \"samples\": [\n          16.0,\n          5.6,\n          117.0\n        ],\n        \"semantic_type\": \"\",\n        \"description\": \"\"\n      }\n    },\n    {\n      \"column\": \"Seats_parliament\",\n      \"properties\": {\n        \"dtype\": \"number\",\n        \"std\": 12.40431912633298,\n        \"min\": 0.0,\n        \"max\": 55.7,\n        \"num_unique_values\": 157,\n        \"samples\": [\n          19.8,\n          17.3,\n          15.1\n        ],\n        \"semantic_type\": \"\",\n        \"description\": \"\"\n      }\n    },\n    {\n      \"column\": \"F_secondary_educ\",\n      \"properties\": {\n        \"dtype\": \"number\",\n        \"std\": 29.528487002962567,\n        \"min\": 6.4,\n        \"max\": 100.0,\n        \"num_unique_values\": 156,\n        \"samples\": [\n          91.3,\n          65.1,\n          99.9\n        ],\n        \"semantic_type\": \"\",\n        \"description\": \"\"\n      }\n    },\n    {\n      \"column\": \"M_secondary_educ\",\n      \"properties\": {\n        \"dtype\": \"number\",\n        \"std\": 26.450032525420237,\n        \"min\": 13.0,\n        \"max\": 100.0,\n        \"num_unique_values\": 153,\n        \"samples\": [\n          43.8,\n          87.7,\n          94.6\n        ],\n        \"semantic_type\": \"\",\n        \"description\": \"\"\n      }\n    },\n    {\n      \"column\": \"F_Labour_force\",\n      \"properties\": {\n        \"dtype\": \"number\",\n        \"std\": 15.905491206738086,\n        \"min\": 6.0,\n        \"max\": 83.1,\n        \"num_unique_values\": 149,\n        \"samples\": [\n          15.7,\n          53.8,\n          41.0\n        ],\n        \"semantic_type\": \"\",\n        \"description\": \"\"\n      }\n    },\n    {\n      \"column\": \"M_Labour_force\",\n      \"properties\": {\n        \"dtype\": \"number\",\n        \"std\": 9.012734008150689,\n        \"min\": 43.9,\n        \"max\": 95.5,\n        \"num_unique_values\": 140,\n        \"samples\": [\n          79.1,\n          74.1,\n          83.5\n        ],\n        \"semantic_type\": \"\",\n        \"description\": \"\"\n      }\n    }\n  ]\n}"
            }
          },
          "metadata": {},
          "execution_count": 29
        }
      ]
    },
    {
      "cell_type": "code",
      "source": [
        "gender_df.shape"
      ],
      "metadata": {
        "colab": {
          "base_uri": "https://localhost:8080/"
        },
        "id": "nNxv1rm-pHAj",
        "outputId": "5b1db0de-3530-4dbc-f0ed-c4fe9442fa02"
      },
      "execution_count": null,
      "outputs": [
        {
          "output_type": "execute_result",
          "data": {
            "text/plain": [
              "(195, 11)"
            ]
          },
          "metadata": {},
          "execution_count": 30
        }
      ]
    },
    {
      "cell_type": "code",
      "source": [
        "gender_df.info()"
      ],
      "metadata": {
        "id": "9sK78Mg0q1Kh",
        "colab": {
          "base_uri": "https://localhost:8080/"
        },
        "outputId": "5d80d5b7-56c2-4193-d231-099ff80666cb"
      },
      "execution_count": null,
      "outputs": [
        {
          "output_type": "stream",
          "name": "stdout",
          "text": [
            "<class 'pandas.core.frame.DataFrame'>\n",
            "RangeIndex: 195 entries, 0 to 194\n",
            "Data columns (total 11 columns):\n",
            " #   Column                 Non-Null Count  Dtype  \n",
            "---  ------                 --------------  -----  \n",
            " 0   Country                195 non-null    object \n",
            " 1   Human_development      191 non-null    object \n",
            " 2   GII                    170 non-null    float64\n",
            " 3   Rank                   170 non-null    float64\n",
            " 4   Maternal_mortality     184 non-null    float64\n",
            " 5   Adolescent_birth_rate  195 non-null    float64\n",
            " 6   Seats_parliament       193 non-null    float64\n",
            " 7   F_secondary_educ       177 non-null    float64\n",
            " 8   M_secondary_educ       177 non-null    float64\n",
            " 9   F_Labour_force         180 non-null    float64\n",
            " 10  M_Labour_force         180 non-null    float64\n",
            "dtypes: float64(9), object(2)\n",
            "memory usage: 16.9+ KB\n"
          ]
        }
      ]
    },
    {
      "cell_type": "code",
      "source": [],
      "metadata": {
        "id": "mFMgA81A4kyC"
      },
      "execution_count": null,
      "outputs": []
    },
    {
      "cell_type": "markdown",
      "source": [
        "## Data Cleaning"
      ],
      "metadata": {
        "id": "D-gAR-m93_vj"
      }
    },
    {
      "cell_type": "markdown",
      "source": [
        "Null Values"
      ],
      "metadata": {
        "id": "fJcBsQlf5Y4i"
      }
    },
    {
      "cell_type": "code",
      "source": [
        "# Showing the number of null values\n",
        "\n",
        "gender_df.isnull().sum()"
      ],
      "metadata": {
        "colab": {
          "base_uri": "https://localhost:8080/"
        },
        "id": "BcjnIbAK3D3n",
        "outputId": "5094972e-32a3-4ca7-b9d2-0e2e44f4cef3"
      },
      "execution_count": null,
      "outputs": [
        {
          "output_type": "execute_result",
          "data": {
            "text/plain": [
              "Country                   0\n",
              "Human_development         4\n",
              "GII                      25\n",
              "Rank                     25\n",
              "Maternal_mortality       11\n",
              "Adolescent_birth_rate     0\n",
              "Seats_parliament          2\n",
              "F_secondary_educ         18\n",
              "M_secondary_educ         18\n",
              "F_Labour_force           15\n",
              "M_Labour_force           15\n",
              "dtype: int64"
            ]
          },
          "metadata": {},
          "execution_count": 33
        }
      ]
    },
    {
      "cell_type": "markdown",
      "source": [
        "% of Null value in dataset"
      ],
      "metadata": {
        "id": "A3kxlOj78Asj"
      }
    },
    {
      "cell_type": "code",
      "source": [
        "(gender_df.isnull().sum()/gender_df.shape[0])*100"
      ],
      "metadata": {
        "colab": {
          "base_uri": "https://localhost:8080/"
        },
        "id": "2vZE6v7a5xo7",
        "outputId": "998024dc-3959-4988-c0d9-9800dc065ce0"
      },
      "execution_count": null,
      "outputs": [
        {
          "output_type": "execute_result",
          "data": {
            "text/plain": [
              "Country                   0.000000\n",
              "Human_development         2.051282\n",
              "GII                      12.820513\n",
              "Rank                     12.820513\n",
              "Maternal_mortality        5.641026\n",
              "Adolescent_birth_rate     0.000000\n",
              "Seats_parliament          1.025641\n",
              "F_secondary_educ          9.230769\n",
              "M_secondary_educ          9.230769\n",
              "F_Labour_force            7.692308\n",
              "M_Labour_force            7.692308\n",
              "dtype: float64"
            ]
          },
          "metadata": {},
          "execution_count": 34
        }
      ]
    },
    {
      "cell_type": "code",
      "source": [
        "sns.heatmap(gender_df.isnull(), yticklabels = False)"
      ],
      "metadata": {
        "colab": {
          "base_uri": "https://localhost:8080/",
          "height": 591
        },
        "id": "XKGL-fcf6IWE",
        "outputId": "58066426-8e9b-41d5-b518-3c8d867a7e27"
      },
      "execution_count": null,
      "outputs": [
        {
          "output_type": "execute_result",
          "data": {
            "text/plain": [
              "<Axes: >"
            ]
          },
          "metadata": {},
          "execution_count": 35
        },
        {
          "output_type": "display_data",
          "data": {
            "text/plain": [
              "<Figure size 640x480 with 2 Axes>"
            ],
            "image/png": "[encoded data removed]"
          },
          "metadata": {}
        }
      ]
    },
    {
      "cell_type": "markdown",
      "source": [
        "Dropping null values"
      ],
      "metadata": {
        "id": "9FWMEnYQ8ybS"
      }
    },
    {
      "cell_type": "code",
      "source": [
        "gender_df.dropna(inplace=True)"
      ],
      "metadata": {
        "id": "Ox_KAVn77YST"
      },
      "execution_count": null,
      "outputs": []
    },
    {
      "cell_type": "code",
      "source": [
        "\n",
        "gender_df.isnull().sum()"
      ],
      "metadata": {
        "colab": {
          "base_uri": "https://localhost:8080/"
        },
        "id": "5VKrOYEI8-Mp",
        "outputId": "c9ecf069-ad27-4ceb-828d-8e8123ee5a28"
      },
      "execution_count": null,
      "outputs": [
        {
          "output_type": "execute_result",
          "data": {
            "text/plain": [
              "Country                  0\n",
              "Human_development        0\n",
              "GII                      0\n",
              "Rank                     0\n",
              "Maternal_mortality       0\n",
              "Adolescent_birth_rate    0\n",
              "Seats_parliament         0\n",
              "F_secondary_educ         0\n",
              "M_secondary_educ         0\n",
              "F_Labour_force           0\n",
              "M_Labour_force           0\n",
              "dtype: int64"
            ]
          },
          "metadata": {},
          "execution_count": 38
        }
      ]
    },
    {
      "cell_type": "markdown",
      "source": [
        "checking for duplicated values\n",
        "\n"
      ],
      "metadata": {
        "id": "Xw8MZLUk9CSx"
      }
    },
    {
      "cell_type": "code",
      "source": [
        "gender_df.duplicated().sum()"
      ],
      "metadata": {
        "colab": {
          "base_uri": "https://localhost:8080/"
        },
        "id": "KStWRd299IIA",
        "outputId": "4d37eac6-52ce-4c1b-a1cd-101550e05dec"
      },
      "execution_count": null,
      "outputs": [
        {
          "output_type": "execute_result",
          "data": {
            "text/plain": [
              "0"
            ]
          },
          "metadata": {},
          "execution_count": 39
        }
      ]
    },
    {
      "cell_type": "markdown",
      "source": [
        "Adding country codes column"
      ],
      "metadata": {
        "id": "RgkMC9uQ9LdR"
      }
    },
    {
      "cell_type": "code",
      "source": [
        "!pip install pycountry\n",
        "\n",
        "import pycountry"
      ],
      "metadata": {
        "id": "MsaWK9h7q78K",
        "colab": {
          "base_uri": "https://localhost:8080/"
        },
        "outputId": "305f79b9-f2cc-4da3-aa35-a712e807ba13"
      },
      "execution_count": null,
      "outputs": [
        {
          "output_type": "stream",
          "name": "stdout",
          "text": [
            "Requirement already satisfied: pycountry in /usr/local/lib/python3.10/dist-packages (23.12.11)\n"
          ]
        }
      ]
    },
    {
      "cell_type": "code",
      "source": [
        "input_countries = gender_df['Country']\n",
        "\n",
        "countries = {}\n",
        "for country in pycountry.countries:\n",
        "    countries[country.name] = country.alpha_3\n",
        "\n",
        "codes = [countries.get(country) for country in input_countries]\n",
        "\n",
        "print(codes)"
      ],
      "metadata": {
        "colab": {
          "base_uri": "https://localhost:8080/"
        },
        "id": "Cy9xOL0O0g0D",
        "outputId": "88468dfa-05f4-453e-9481-b3cfabb6b2e3"
      },
      "execution_count": null,
      "outputs": [
        {
          "output_type": "stream",
          "name": "stdout",
          "text": [
            "['CHE', 'NOR', 'ISL', 'AUS', 'DNK', 'SWE', 'IRL', 'DEU', 'NLD', 'FIN', 'SGP', 'BEL', 'NZL', 'CAN', 'LUX', 'GBR', 'JPN', None, 'USA', 'ISR', 'MLT', 'SVN', 'AUT', 'ARE', 'ESP', 'FRA', 'CYP', 'ITA', 'EST', 'CZE', 'GRC', 'POL', 'BHR', 'LTU', 'SAU', 'PRT', 'LVA', 'HRV', 'CHL', 'QAT', 'SVK', 'HUN', 'ARG', 'TUR', 'MNE', 'KWT', 'BRN', 'RUS', 'ROU', 'OMN', 'BHS', 'KAZ', 'TTO', 'CRI', 'URY', 'BLR', 'PAN', 'MYS', 'GEO', 'MUS', 'SRB', 'THA', 'ALB', 'BGR', 'BRB', 'LKA', 'BIH', None, 'UKR', 'MKD', 'CHN', 'DOM', None, 'CUB', 'PER', 'ARM', 'MEX', 'BRA', 'COL', 'VCT', 'MDV', 'DZA', 'AZE', 'TON', 'TKM', 'ECU', 'MNG', 'EGY', 'TUN', 'FJI', 'SUR', 'UZB', 'JOR', 'LBY', 'PRY', 'LCA', 'GUY', 'ZAF', 'JAM', 'WSM', 'GAB', 'LBN', 'IDN', 'VNM', 'PHL', 'BWA', None, 'KGZ', None, 'IRQ', 'TJK', 'BLZ', 'MAR', 'SLV', 'NIC', 'BTN', 'CPV', 'BGD', 'IND', 'GHA', 'GTM', 'HND', 'STP', 'NAM', 'LAO', 'TLS', 'NPL', 'SWZ', 'KHM', 'ZWE', 'AGO', 'MMR', 'SYR', 'CMR', 'KEN', 'COG', 'ZMB', 'PNG', 'MRT', 'CIV', None, 'PAK', 'TGO', 'HTI', 'NGA', 'RWA', 'BEN', 'UGA', 'LSO', 'MWI', 'SEN', 'SDN', 'MDG', 'GMB', 'ETH', 'GNB', 'LBR', 'COG', 'AFG', 'SLE', 'GIN', 'YEM', 'BFA', 'MOZ', 'MLI', 'BDI', 'CAF', 'NER', 'TCD', 'SSD']\n"
          ]
        }
      ]
    },
    {
      "cell_type": "code",
      "source": [
        "gender_df['ISO-Code']=codes"
      ],
      "metadata": {
        "id": "rgdxyne106VY"
      },
      "execution_count": null,
      "outputs": []
    },
    {
      "cell_type": "code",
      "source": [
        "gender_df.head(5)"
      ],
      "metadata": {
        "colab": {
          "base_uri": "https://localhost:8080/",
          "height": 243
        },
        "id": "MLN-QGDF1Ari",
        "outputId": "3ee89e3f-ff1c-4759-cca6-c79f9bc7e71a"
      },
      "execution_count": null,
      "outputs": [
        {
          "output_type": "execute_result",
          "data": {
            "text/plain": [
              "       Country Human_development    GII  Rank  Maternal_mortality  \\\n",
              "0  Switzerland         Very high  0.018   3.0                 5.0   \n",
              "1       Norway         Very high  0.016   2.0                 2.0   \n",
              "2      Iceland         Very high  0.043   8.0                 4.0   \n",
              "4    Australia         Very high  0.073  19.0                 6.0   \n",
              "5      Denmark         Very high  0.013   1.0                 4.0   \n",
              "\n",
              "   Adolescent_birth_rate  Seats_parliament  F_secondary_educ  \\\n",
              "0                    2.2              39.8              96.9   \n",
              "1                    2.3              45.0              99.1   \n",
              "2                    5.4              47.6              99.8   \n",
              "4                    8.1              37.9              94.6   \n",
              "5                    1.9              39.7              95.1   \n",
              "\n",
              "   M_secondary_educ  F_Labour_force  M_Labour_force ISO-Code  \n",
              "0              97.5            61.7            72.7      CHE  \n",
              "1              99.3            60.3            72.0      NOR  \n",
              "2              99.7            61.7            70.5      ISL  \n",
              "4              94.4            61.1            70.5      AUS  \n",
              "5              95.2            57.7            66.7      DNK  "
            ],
            "text/html": [
              "\n",
              "  <div id=\"df-f593b43c-1fe0-4eab-9942-1f3d46f7bf16\" class=\"colab-df-container\">\n",
              "    <div>\n",
              "<style scoped>\n",
              "    .dataframe tbody tr th:only-of-type {\n",
              "        vertical-align: middle;\n",
              "    }\n",
              "\n",
              "    .dataframe tbody tr th {\n",
              "        vertical-align: top;\n",
              "    }\n",
              "\n",
              "    .dataframe thead th {\n",
              "        text-align: right;\n",
              "    }\n",
              "</style>\n",
              "<table border=\"1\" class=\"dataframe\">\n",
              "  <thead>\n",
              "    <tr style=\"text-align: right;\">\n",
              "      <th></th>\n",
              "      <th>Country</th>\n",
              "      <th>Human_development</th>\n",
              "      <th>GII</th>\n",
              "      <th>Rank</th>\n",
              "      <th>Maternal_mortality</th>\n",
              "      <th>Adolescent_birth_rate</th>\n",
              "      <th>Seats_parliament</th>\n",
              "      <th>F_secondary_educ</th>\n",
              "      <th>M_secondary_educ</th>\n",
              "      <th>F_Labour_force</th>\n",
              "      <th>M_Labour_force</th>\n",
              "      <th>ISO-Code</th>\n",
              "    </tr>\n",
              "  </thead>\n",
              "  <tbody>\n",
              "    <tr>\n",
              "      <th>0</th>\n",
              "      <td>Switzerland</td>\n",
              "      <td>Very high</td>\n",
              "      <td>0.018</td>\n",
              "      <td>3.0</td>\n",
              "      <td>5.0</td>\n",
              "      <td>2.2</td>\n",
              "      <td>39.8</td>\n",
              "      <td>96.9</td>\n",
              "      <td>97.5</td>\n",
              "      <td>61.7</td>\n",
              "      <td>72.7</td>\n",
              "      <td>CHE</td>\n",
              "    </tr>\n",
              "    <tr>\n",
              "      <th>1</th>\n",
              "      <td>Norway</td>\n",
              "      <td>Very high</td>\n",
              "      <td>0.016</td>\n",
              "      <td>2.0</td>\n",
              "      <td>2.0</td>\n",
              "      <td>2.3</td>\n",
              "      <td>45.0</td>\n",
              "      <td>99.1</td>\n",
              "      <td>99.3</td>\n",
              "      <td>60.3</td>\n",
              "      <td>72.0</td>\n",
              "      <td>NOR</td>\n",
              "    </tr>\n",
              "    <tr>\n",
              "      <th>2</th>\n",
              "      <td>Iceland</td>\n",
              "      <td>Very high</td>\n",
              "      <td>0.043</td>\n",
              "      <td>8.0</td>\n",
              "      <td>4.0</td>\n",
              "      <td>5.4</td>\n",
              "      <td>47.6</td>\n",
              "      <td>99.8</td>\n",
              "      <td>99.7</td>\n",
              "      <td>61.7</td>\n",
              "      <td>70.5</td>\n",
              "      <td>ISL</td>\n",
              "    </tr>\n",
              "    <tr>\n",
              "      <th>4</th>\n",
              "      <td>Australia</td>\n",
              "      <td>Very high</td>\n",
              "      <td>0.073</td>\n",
              "      <td>19.0</td>\n",
              "      <td>6.0</td>\n",
              "      <td>8.1</td>\n",
              "      <td>37.9</td>\n",
              "      <td>94.6</td>\n",
              "      <td>94.4</td>\n",
              "      <td>61.1</td>\n",
              "      <td>70.5</td>\n",
              "      <td>AUS</td>\n",
              "    </tr>\n",
              "    <tr>\n",
              "      <th>5</th>\n",
              "      <td>Denmark</td>\n",
              "      <td>Very high</td>\n",
              "      <td>0.013</td>\n",
              "      <td>1.0</td>\n",
              "      <td>4.0</td>\n",
              "      <td>1.9</td>\n",
              "      <td>39.7</td>\n",
              "      <td>95.1</td>\n",
              "      <td>95.2</td>\n",
              "      <td>57.7</td>\n",
              "      <td>66.7</td>\n",
              "      <td>DNK</td>\n",
              "    </tr>\n",
              "  </tbody>\n",
              "</table>\n",
              "</div>\n",
              "    <div class=\"colab-df-buttons\">\n",
              "\n",
              "  <div class=\"colab-df-container\">\n",
              "    <button class=\"colab-df-convert\" onclick=\"convertToInteractive('df-f593b43c-1fe0-4eab-9942-1f3d46f7bf16')\"\n",
              "            title=\"Convert this dataframe to an interactive table.\"\n",
              "            style=\"display:none;\">\n",
              "\n",
              "  <svg xmlns=\"http://www.w3.org/2000/svg\" height=\"24px\" viewBox=\"0 -960 960 960\">\n",
              "    <path d=\"M120-120v-720h720v720H120Zm60-500h600v-160H180v160Zm220 220h160v-160H400v160Zm0 220h160v-160H400v160ZM180-400h160v-160H180v160Zm440 0h160v-160H620v160ZM180-180h160v-160H180v160Zm440 0h160v-160H620v160Z\"/>\n",
              "  </svg>\n",
              "    </button>\n",
              "\n",
              "  <style>\n",
              "    .colab-df-container {\n",
              "      display:flex;\n",
              "      gap: 12px;\n",
              "    }\n",
              "\n",
              "    .colab-df-convert {\n",
              "      background-color: #E8F0FE;\n",
              "      border: none;\n",
              "      border-radius: 50%;\n",
              "      cursor: pointer;\n",
              "      display: none;\n",
              "      fill: #1967D2;\n",
              "      height: 32px;\n",
              "      padding: 0 0 0 0;\n",
              "      width: 32px;\n",
              "    }\n",
              "\n",
              "    .colab-df-convert:hover {\n",
              "      background-color: #E2EBFA;\n",
              "      box-shadow: 0px 1px 2px rgba(60, 64, 67, 0.3), 0px 1px 3px 1px rgba(60, 64, 67, 0.15);\n",
              "      fill: #174EA6;\n",
              "    }\n",
              "\n",
              "    .colab-df-buttons div {\n",
              "      margin-bottom: 4px;\n",
              "    }\n",
              "\n",
              "    [theme=dark] .colab-df-convert {\n",
              "      background-color: #3B4455;\n",
              "      fill: #D2E3FC;\n",
              "    }\n",
              "\n",
              "    [theme=dark] .colab-df-convert:hover {\n",
              "      background-color: #434B5C;\n",
              "      box-shadow: 0px 1px 3px 1px rgba(0, 0, 0, 0.15);\n",
              "      filter: drop-shadow(0px 1px 2px rgba(0, 0, 0, 0.3));\n",
              "      fill: #FFFFFF;\n",
              "    }\n",
              "  </style>\n",
              "\n",
              "    <script>\n",
              "      const buttonEl =\n",
              "        document.querySelector('#df-f593b43c-1fe0-4eab-9942-1f3d46f7bf16 button.colab-df-convert');\n",
              "      buttonEl.style.display =\n",
              "        google.colab.kernel.accessAllowed ? 'block' : 'none';\n",
              "\n",
              "      async function convertToInteractive(key) {\n",
              "        const element = document.querySelector('#df-f593b43c-1fe0-4eab-9942-1f3d46f7bf16');\n",
              "        const dataTable =\n",
              "          await google.colab.kernel.invokeFunction('convertToInteractive',\n",
              "                                                    [key], {});\n",
              "        if (!dataTable) return;\n",
              "\n",
              "        const docLinkHtml = 'Like what you see? Visit the ' +\n",
              "          '<a target=\"_blank\" href=https://colab.research.google.com/notebooks/data_table.ipynb>data table notebook</a>'\n",
              "          + ' to learn more about interactive tables.';\n",
              "        element.innerHTML = '';\n",
              "        dataTable['output_type'] = 'display_data';\n",
              "        await google.colab.output.renderOutput(dataTable, element);\n",
              "        const docLink = document.createElement('div');\n",
              "        docLink.innerHTML = docLinkHtml;\n",
              "        element.appendChild(docLink);\n",
              "      }\n",
              "    </script>\n",
              "  </div>\n",
              "\n",
              "\n",
              "<div id=\"df-5beb2755-52bd-4ce8-96e1-c044558cdb96\">\n",
              "  <button class=\"colab-df-quickchart\" onclick=\"quickchart('df-5beb2755-52bd-4ce8-96e1-c044558cdb96')\"\n",
              "            title=\"Suggest charts\"\n",
              "            style=\"display:none;\">\n",
              "\n",
              "<svg xmlns=\"http://www.w3.org/2000/svg\" height=\"24px\"viewBox=\"0 0 24 24\"\n",
              "     width=\"24px\">\n",
              "    <g>\n",
              "        <path d=\"M19 3H5c-1.1 0-2 .9-2 2v14c0 1.1.9 2 2 2h14c1.1 0 2-.9 2-2V5c0-1.1-.9-2-2-2zM9 17H7v-7h2v7zm4 0h-2V7h2v10zm4 0h-2v-4h2v4z\"/>\n",
              "    </g>\n",
              "</svg>\n",
              "  </button>\n",
              "\n",
              "<style>\n",
              "  .colab-df-quickchart {\n",
              "      --bg-color: #E8F0FE;\n",
              "      --fill-color: #1967D2;\n",
              "      --hover-bg-color: #E2EBFA;\n",
              "      --hover-fill-color: #174EA6;\n",
              "      --disabled-fill-color: #AAA;\n",
              "      --disabled-bg-color: #DDD;\n",
              "  }\n",
              "\n",
              "  [theme=dark] .colab-df-quickchart {\n",
              "      --bg-color: #3B4455;\n",
              "      --fill-color: #D2E3FC;\n",
              "      --hover-bg-color: #434B5C;\n",
              "      --hover-fill-color: #FFFFFF;\n",
              "      --disabled-bg-color: #3B4455;\n",
              "      --disabled-fill-color: #666;\n",
              "  }\n",
              "\n",
              "  .colab-df-quickchart {\n",
              "    background-color: var(--bg-color);\n",
              "    border: none;\n",
              "    border-radius: 50%;\n",
              "    cursor: pointer;\n",
              "    display: none;\n",
              "    fill: var(--fill-color);\n",
              "    height: 32px;\n",
              "    padding: 0;\n",
              "    width: 32px;\n",
              "  }\n",
              "\n",
              "  .colab-df-quickchart:hover {\n",
              "    background-color: var(--hover-bg-color);\n",
              "    box-shadow: 0 1px 2px rgba(60, 64, 67, 0.3), 0 1px 3px 1px rgba(60, 64, 67, 0.15);\n",
              "    fill: var(--button-hover-fill-color);\n",
              "  }\n",
              "\n",
              "  .colab-df-quickchart-complete:disabled,\n",
              "  .colab-df-quickchart-complete:disabled:hover {\n",
              "    background-color: var(--disabled-bg-color);\n",
              "    fill: var(--disabled-fill-color);\n",
              "    box-shadow: none;\n",
              "  }\n",
              "\n",
              "  .colab-df-spinner {\n",
              "    border: 2px solid var(--fill-color);\n",
              "    border-color: transparent;\n",
              "    border-bottom-color: var(--fill-color);\n",
              "    animation:\n",
              "      spin 1s steps(1) infinite;\n",
              "  }\n",
              "\n",
              "  @keyframes spin {\n",
              "    0% {\n",
              "      border-color: transparent;\n",
              "      border-bottom-color: var(--fill-color);\n",
              "      border-left-color: var(--fill-color);\n",
              "    }\n",
              "    20% {\n",
              "      border-color: transparent;\n",
              "      border-left-color: var(--fill-color);\n",
              "      border-top-color: var(--fill-color);\n",
              "    }\n",
              "    30% {\n",
              "      border-color: transparent;\n",
              "      border-left-color: var(--fill-color);\n",
              "      border-top-color: var(--fill-color);\n",
              "      border-right-color: var(--fill-color);\n",
              "    }\n",
              "    40% {\n",
              "      border-color: transparent;\n",
              "      border-right-color: var(--fill-color);\n",
              "      border-top-color: var(--fill-color);\n",
              "    }\n",
              "    60% {\n",
              "      border-color: transparent;\n",
              "      border-right-color: var(--fill-color);\n",
              "    }\n",
              "    80% {\n",
              "      border-color: transparent;\n",
              "      border-right-color: var(--fill-color);\n",
              "      border-bottom-color: var(--fill-color);\n",
              "    }\n",
              "    90% {\n",
              "      border-color: transparent;\n",
              "      border-bottom-color: var(--fill-color);\n",
              "    }\n",
              "  }\n",
              "</style>\n",
              "\n",
              "  <script>\n",
              "    async function quickchart(key) {\n",
              "      const quickchartButtonEl =\n",
              "        document.querySelector('#' + key + ' button');\n",
              "      quickchartButtonEl.disabled = true;  // To prevent multiple clicks.\n",
              "      quickchartButtonEl.classList.add('colab-df-spinner');\n",
              "      try {\n",
              "        const charts = await google.colab.kernel.invokeFunction(\n",
              "            'suggestCharts', [key], {});\n",
              "      } catch (error) {\n",
              "        console.error('Error during call to suggestCharts:', error);\n",
              "      }\n",
              "      quickchartButtonEl.classList.remove('colab-df-spinner');\n",
              "      quickchartButtonEl.classList.add('colab-df-quickchart-complete');\n",
              "    }\n",
              "    (() => {\n",
              "      let quickchartButtonEl =\n",
              "        document.querySelector('#df-5beb2755-52bd-4ce8-96e1-c044558cdb96 button');\n",
              "      quickchartButtonEl.style.display =\n",
              "        google.colab.kernel.accessAllowed ? 'block' : 'none';\n",
              "    })();\n",
              "  </script>\n",
              "</div>\n",
              "\n",
              "    </div>\n",
              "  </div>\n"
            ],
            "application/vnd.google.colaboratory.intrinsic+json": {
              "type": "dataframe",
              "variable_name": "gender_df",
              "summary": "{\n  \"name\": \"gender_df\",\n  \"rows\": 170,\n  \"fields\": [\n    {\n      \"column\": \"Country\",\n      \"properties\": {\n        \"dtype\": \"string\",\n        \"num_unique_values\": 169,\n        \"samples\": [\n          \"Mauritania\",\n          \"Greece\",\n          \"Ghana\"\n        ],\n        \"semantic_type\": \"\",\n        \"description\": \"\"\n      }\n    },\n    {\n      \"column\": \"Human_development\",\n      \"properties\": {\n        \"dtype\": \"category\",\n        \"num_unique_values\": 4,\n        \"samples\": [\n          \"High\",\n          \"Low\",\n          \"Very high\"\n        ],\n        \"semantic_type\": \"\",\n        \"description\": \"\"\n      }\n    },\n    {\n      \"column\": \"GII\",\n      \"properties\": {\n        \"dtype\": \"number\",\n        \"std\": 0.19710529288811846,\n        \"min\": 0.013,\n        \"max\": 0.82,\n        \"num_unique_values\": 152,\n        \"samples\": [\n          0.303,\n          0.82,\n          0.419\n        ],\n        \"semantic_type\": \"\",\n        \"description\": \"\"\n      }\n    },\n    {\n      \"column\": \"Rank\",\n      \"properties\": {\n        \"dtype\": \"number\",\n        \"std\": 49.21020639567616,\n        \"min\": 1.0,\n        \"max\": 170.0,\n        \"num_unique_values\": 152,\n        \"samples\": [\n          73.0,\n          170.0,\n          101.0\n        ],\n        \"semantic_type\": \"\",\n        \"description\": \"\"\n      }\n    },\n    {\n      \"column\": \"Maternal_mortality\",\n      \"properties\": {\n        \"dtype\": \"number\",\n        \"std\": 234.0615654669088,\n        \"min\": 2.0,\n        \"max\": 1150.0,\n        \"num_unique_values\": 110,\n        \"samples\": [\n          766.0,\n          19.0,\n          7.0\n        ],\n        \"semantic_type\": \"\",\n        \"description\": \"\"\n      }\n    },\n    {\n      \"column\": \"Adolescent_birth_rate\",\n      \"properties\": {\n        \"dtype\": \"number\",\n        \"std\": 39.12694105325859,\n        \"min\": 1.9,\n        \"max\": 170.5,\n        \"num_unique_values\": 157,\n        \"samples\": [\n          117.0,\n          36.4,\n          101.7\n        ],\n        \"semantic_type\": \"\",\n        \"description\": \"\"\n      }\n    },\n    {\n      \"column\": \"Seats_parliament\",\n      \"properties\": {\n        \"dtype\": \"number\",\n        \"std\": 12.352020624377495,\n        \"min\": 0.0,\n        \"max\": 55.7,\n        \"num_unique_values\": 146,\n        \"samples\": [\n          9.1,\n          10.8,\n          35.3\n        ],\n        \"semantic_type\": \"\",\n        \"description\": \"\"\n      }\n    },\n    {\n      \"column\": \"F_secondary_educ\",\n      \"properties\": {\n        \"dtype\": \"number\",\n        \"std\": 29.863460538289313,\n        \"min\": 6.4,\n        \"max\": 100.0,\n        \"num_unique_values\": 151,\n        \"samples\": [\n          81.6,\n          82.2,\n          49.9\n        ],\n        \"semantic_type\": \"\",\n        \"description\": \"\"\n      }\n    },\n    {\n      \"column\": \"M_secondary_educ\",\n      \"properties\": {\n        \"dtype\": \"number\",\n        \"std\": 26.745613242291352,\n        \"min\": 13.0,\n        \"max\": 100.0,\n        \"num_unique_values\": 147,\n        \"samples\": [\n          55.3,\n          95.3,\n          19.7\n        ],\n        \"semantic_type\": \"\",\n        \"description\": \"\"\n      }\n    },\n    {\n      \"column\": \"F_Labour_force\",\n      \"properties\": {\n        \"dtype\": \"number\",\n        \"std\": 15.301781630193505,\n        \"min\": 6.0,\n        \"max\": 82.5,\n        \"num_unique_values\": 140,\n        \"samples\": [\n          61.0,\n          42.7,\n          54.0\n        ],\n        \"semantic_type\": \"\",\n        \"description\": \"\"\n      }\n    },\n    {\n      \"column\": \"M_Labour_force\",\n      \"properties\": {\n        \"dtype\": \"number\",\n        \"std\": 8.471585335259636,\n        \"min\": 43.9,\n        \"max\": 95.5,\n        \"num_unique_values\": 132,\n        \"samples\": [\n          63.6,\n          57.0,\n          71.4\n        ],\n        \"semantic_type\": \"\",\n        \"description\": \"\"\n      }\n    },\n    {\n      \"column\": \"ISO-Code\",\n      \"properties\": {\n        \"dtype\": \"string\",\n        \"num_unique_values\": 163,\n        \"samples\": [\n          \"PAK\",\n          \"GTM\",\n          \"ZMB\"\n        ],\n        \"semantic_type\": \"\",\n        \"description\": \"\"\n      }\n    }\n  ]\n}"
            }
          },
          "metadata": {},
          "execution_count": 44
        }
      ]
    },
    {
      "cell_type": "code",
      "source": [
        "# Rearranging the columns\n",
        "\n",
        "# Move ISO-Code column to the first position\n",
        "iso_code_col = gender_df.pop('ISO-Code')\n",
        "gender_df.insert(0, 'ISO-Code', iso_code_col)\n"
      ],
      "metadata": {
        "id": "cPuO-Cxt1C7b"
      },
      "execution_count": null,
      "outputs": []
    },
    {
      "cell_type": "code",
      "source": [
        "# Rearranged columns\n",
        "\n",
        "gender_df.head(2)"
      ],
      "metadata": {
        "colab": {
          "base_uri": "https://localhost:8080/",
          "height": 149
        },
        "id": "xhjgiQTz25z7",
        "outputId": "05759934-a59f-41c7-d25d-0584bc02df36"
      },
      "execution_count": null,
      "outputs": [
        {
          "output_type": "execute_result",
          "data": {
            "text/plain": [
              "  ISO-Code      Country Human_development    GII  Rank  Maternal_mortality  \\\n",
              "0      CHE  Switzerland         Very high  0.018   3.0                 5.0   \n",
              "1      NOR       Norway         Very high  0.016   2.0                 2.0   \n",
              "\n",
              "   Adolescent_birth_rate  Seats_parliament  F_secondary_educ  \\\n",
              "0                    2.2              39.8              96.9   \n",
              "1                    2.3              45.0              99.1   \n",
              "\n",
              "   M_secondary_educ  F_Labour_force  M_Labour_force  \n",
              "0              97.5            61.7            72.7  \n",
              "1              99.3            60.3            72.0  "
            ],
            "text/html": [
              "\n",
              "  <div id=\"df-976fcae1-89d6-464a-b09c-bf1ef8a2bac6\" class=\"colab-df-container\">\n",
              "    <div>\n",
              "<style scoped>\n",
              "    .dataframe tbody tr th:only-of-type {\n",
              "        vertical-align: middle;\n",
              "    }\n",
              "\n",
              "    .dataframe tbody tr th {\n",
              "        vertical-align: top;\n",
              "    }\n",
              "\n",
              "    .dataframe thead th {\n",
              "        text-align: right;\n",
              "    }\n",
              "</style>\n",
              "<table border=\"1\" class=\"dataframe\">\n",
              "  <thead>\n",
              "    <tr style=\"text-align: right;\">\n",
              "      <th></th>\n",
              "      <th>ISO-Code</th>\n",
              "      <th>Country</th>\n",
              "      <th>Human_development</th>\n",
              "      <th>GII</th>\n",
              "      <th>Rank</th>\n",
              "      <th>Maternal_mortality</th>\n",
              "      <th>Adolescent_birth_rate</th>\n",
              "      <th>Seats_parliament</th>\n",
              "      <th>F_secondary_educ</th>\n",
              "      <th>M_secondary_educ</th>\n",
              "      <th>F_Labour_force</th>\n",
              "      <th>M_Labour_force</th>\n",
              "    </tr>\n",
              "  </thead>\n",
              "  <tbody>\n",
              "    <tr>\n",
              "      <th>0</th>\n",
              "      <td>CHE</td>\n",
              "      <td>Switzerland</td>\n",
              "      <td>Very high</td>\n",
              "      <td>0.018</td>\n",
              "      <td>3.0</td>\n",
              "      <td>5.0</td>\n",
              "      <td>2.2</td>\n",
              "      <td>39.8</td>\n",
              "      <td>96.9</td>\n",
              "      <td>97.5</td>\n",
              "      <td>61.7</td>\n",
              "      <td>72.7</td>\n",
              "    </tr>\n",
              "    <tr>\n",
              "      <th>1</th>\n",
              "      <td>NOR</td>\n",
              "      <td>Norway</td>\n",
              "      <td>Very high</td>\n",
              "      <td>0.016</td>\n",
              "      <td>2.0</td>\n",
              "      <td>2.0</td>\n",
              "      <td>2.3</td>\n",
              "      <td>45.0</td>\n",
              "      <td>99.1</td>\n",
              "      <td>99.3</td>\n",
              "      <td>60.3</td>\n",
              "      <td>72.0</td>\n",
              "    </tr>\n",
              "  </tbody>\n",
              "</table>\n",
              "</div>\n",
              "    <div class=\"colab-df-buttons\">\n",
              "\n",
              "  <div class=\"colab-df-container\">\n",
              "    <button class=\"colab-df-convert\" onclick=\"convertToInteractive('df-976fcae1-89d6-464a-b09c-bf1ef8a2bac6')\"\n",
              "            title=\"Convert this dataframe to an interactive table.\"\n",
              "            style=\"display:none;\">\n",
              "\n",
              "  <svg xmlns=\"http://www.w3.org/2000/svg\" height=\"24px\" viewBox=\"0 -960 960 960\">\n",
              "    <path d=\"M120-120v-720h720v720H120Zm60-500h600v-160H180v160Zm220 220h160v-160H400v160Zm0 220h160v-160H400v160ZM180-400h160v-160H180v160Zm440 0h160v-160H620v160ZM180-180h160v-160H180v160Zm440 0h160v-160H620v160Z\"/>\n",
              "  </svg>\n",
              "    </button>\n",
              "\n",
              "  <style>\n",
              "    .colab-df-container {\n",
              "      display:flex;\n",
              "      gap: 12px;\n",
              "    }\n",
              "\n",
              "    .colab-df-convert {\n",
              "      background-color: #E8F0FE;\n",
              "      border: none;\n",
              "      border-radius: 50%;\n",
              "      cursor: pointer;\n",
              "      display: none;\n",
              "      fill: #1967D2;\n",
              "      height: 32px;\n",
              "      padding: 0 0 0 0;\n",
              "      width: 32px;\n",
              "    }\n",
              "\n",
              "    .colab-df-convert:hover {\n",
              "      background-color: #E2EBFA;\n",
              "      box-shadow: 0px 1px 2px rgba(60, 64, 67, 0.3), 0px 1px 3px 1px rgba(60, 64, 67, 0.15);\n",
              "      fill: #174EA6;\n",
              "    }\n",
              "\n",
              "    .colab-df-buttons div {\n",
              "      margin-bottom: 4px;\n",
              "    }\n",
              "\n",
              "    [theme=dark] .colab-df-convert {\n",
              "      background-color: #3B4455;\n",
              "      fill: #D2E3FC;\n",
              "    }\n",
              "\n",
              "    [theme=dark] .colab-df-convert:hover {\n",
              "      background-color: #434B5C;\n",
              "      box-shadow: 0px 1px 3px 1px rgba(0, 0, 0, 0.15);\n",
              "      filter: drop-shadow(0px 1px 2px rgba(0, 0, 0, 0.3));\n",
              "      fill: #FFFFFF;\n",
              "    }\n",
              "  </style>\n",
              "\n",
              "    <script>\n",
              "      const buttonEl =\n",
              "        document.querySelector('#df-976fcae1-89d6-464a-b09c-bf1ef8a2bac6 button.colab-df-convert');\n",
              "      buttonEl.style.display =\n",
              "        google.colab.kernel.accessAllowed ? 'block' : 'none';\n",
              "\n",
              "      async function convertToInteractive(key) {\n",
              "        const element = document.querySelector('#df-976fcae1-89d6-464a-b09c-bf1ef8a2bac6');\n",
              "        const dataTable =\n",
              "          await google.colab.kernel.invokeFunction('convertToInteractive',\n",
              "                                                    [key], {});\n",
              "        if (!dataTable) return;\n",
              "\n",
              "        const docLinkHtml = 'Like what you see? Visit the ' +\n",
              "          '<a target=\"_blank\" href=https://colab.research.google.com/notebooks/data_table.ipynb>data table notebook</a>'\n",
              "          + ' to learn more about interactive tables.';\n",
              "        element.innerHTML = '';\n",
              "        dataTable['output_type'] = 'display_data';\n",
              "        await google.colab.output.renderOutput(dataTable, element);\n",
              "        const docLink = document.createElement('div');\n",
              "        docLink.innerHTML = docLinkHtml;\n",
              "        element.appendChild(docLink);\n",
              "      }\n",
              "    </script>\n",
              "  </div>\n",
              "\n",
              "\n",
              "<div id=\"df-2c9496de-2401-4233-a365-d40b52c4d2f1\">\n",
              "  <button class=\"colab-df-quickchart\" onclick=\"quickchart('df-2c9496de-2401-4233-a365-d40b52c4d2f1')\"\n",
              "            title=\"Suggest charts\"\n",
              "            style=\"display:none;\">\n",
              "\n",
              "<svg xmlns=\"http://www.w3.org/2000/svg\" height=\"24px\"viewBox=\"0 0 24 24\"\n",
              "     width=\"24px\">\n",
              "    <g>\n",
              "        <path d=\"M19 3H5c-1.1 0-2 .9-2 2v14c0 1.1.9 2 2 2h14c1.1 0 2-.9 2-2V5c0-1.1-.9-2-2-2zM9 17H7v-7h2v7zm4 0h-2V7h2v10zm4 0h-2v-4h2v4z\"/>\n",
              "    </g>\n",
              "</svg>\n",
              "  </button>\n",
              "\n",
              "<style>\n",
              "  .colab-df-quickchart {\n",
              "      --bg-color: #E8F0FE;\n",
              "      --fill-color: #1967D2;\n",
              "      --hover-bg-color: #E2EBFA;\n",
              "      --hover-fill-color: #174EA6;\n",
              "      --disabled-fill-color: #AAA;\n",
              "      --disabled-bg-color: #DDD;\n",
              "  }\n",
              "\n",
              "  [theme=dark] .colab-df-quickchart {\n",
              "      --bg-color: #3B4455;\n",
              "      --fill-color: #D2E3FC;\n",
              "      --hover-bg-color: #434B5C;\n",
              "      --hover-fill-color: #FFFFFF;\n",
              "      --disabled-bg-color: #3B4455;\n",
              "      --disabled-fill-color: #666;\n",
              "  }\n",
              "\n",
              "  .colab-df-quickchart {\n",
              "    background-color: var(--bg-color);\n",
              "    border: none;\n",
              "    border-radius: 50%;\n",
              "    cursor: pointer;\n",
              "    display: none;\n",
              "    fill: var(--fill-color);\n",
              "    height: 32px;\n",
              "    padding: 0;\n",
              "    width: 32px;\n",
              "  }\n",
              "\n",
              "  .colab-df-quickchart:hover {\n",
              "    background-color: var(--hover-bg-color);\n",
              "    box-shadow: 0 1px 2px rgba(60, 64, 67, 0.3), 0 1px 3px 1px rgba(60, 64, 67, 0.15);\n",
              "    fill: var(--button-hover-fill-color);\n",
              "  }\n",
              "\n",
              "  .colab-df-quickchart-complete:disabled,\n",
              "  .colab-df-quickchart-complete:disabled:hover {\n",
              "    background-color: var(--disabled-bg-color);\n",
              "    fill: var(--disabled-fill-color);\n",
              "    box-shadow: none;\n",
              "  }\n",
              "\n",
              "  .colab-df-spinner {\n",
              "    border: 2px solid var(--fill-color);\n",
              "    border-color: transparent;\n",
              "    border-bottom-color: var(--fill-color);\n",
              "    animation:\n",
              "      spin 1s steps(1) infinite;\n",
              "  }\n",
              "\n",
              "  @keyframes spin {\n",
              "    0% {\n",
              "      border-color: transparent;\n",
              "      border-bottom-color: var(--fill-color);\n",
              "      border-left-color: var(--fill-color);\n",
              "    }\n",
              "    20% {\n",
              "      border-color: transparent;\n",
              "      border-left-color: var(--fill-color);\n",
              "      border-top-color: var(--fill-color);\n",
              "    }\n",
              "    30% {\n",
              "      border-color: transparent;\n",
              "      border-left-color: var(--fill-color);\n",
              "      border-top-color: var(--fill-color);\n",
              "      border-right-color: var(--fill-color);\n",
              "    }\n",
              "    40% {\n",
              "      border-color: transparent;\n",
              "      border-right-color: var(--fill-color);\n",
              "      border-top-color: var(--fill-color);\n",
              "    }\n",
              "    60% {\n",
              "      border-color: transparent;\n",
              "      border-right-color: var(--fill-color);\n",
              "    }\n",
              "    80% {\n",
              "      border-color: transparent;\n",
              "      border-right-color: var(--fill-color);\n",
              "      border-bottom-color: var(--fill-color);\n",
              "    }\n",
              "    90% {\n",
              "      border-color: transparent;\n",
              "      border-bottom-color: var(--fill-color);\n",
              "    }\n",
              "  }\n",
              "</style>\n",
              "\n",
              "  <script>\n",
              "    async function quickchart(key) {\n",
              "      const quickchartButtonEl =\n",
              "        document.querySelector('#' + key + ' button');\n",
              "      quickchartButtonEl.disabled = true;  // To prevent multiple clicks.\n",
              "      quickchartButtonEl.classList.add('colab-df-spinner');\n",
              "      try {\n",
              "        const charts = await google.colab.kernel.invokeFunction(\n",
              "            'suggestCharts', [key], {});\n",
              "      } catch (error) {\n",
              "        console.error('Error during call to suggestCharts:', error);\n",
              "      }\n",
              "      quickchartButtonEl.classList.remove('colab-df-spinner');\n",
              "      quickchartButtonEl.classList.add('colab-df-quickchart-complete');\n",
              "    }\n",
              "    (() => {\n",
              "      let quickchartButtonEl =\n",
              "        document.querySelector('#df-2c9496de-2401-4233-a365-d40b52c4d2f1 button');\n",
              "      quickchartButtonEl.style.display =\n",
              "        google.colab.kernel.accessAllowed ? 'block' : 'none';\n",
              "    })();\n",
              "  </script>\n",
              "</div>\n",
              "\n",
              "    </div>\n",
              "  </div>\n"
            ],
            "application/vnd.google.colaboratory.intrinsic+json": {
              "type": "dataframe",
              "variable_name": "gender_df",
              "summary": "{\n  \"name\": \"gender_df\",\n  \"rows\": 170,\n  \"fields\": [\n    {\n      \"column\": \"ISO-Code\",\n      \"properties\": {\n        \"dtype\": \"string\",\n        \"num_unique_values\": 163,\n        \"samples\": [\n          \"PAK\",\n          \"GTM\",\n          \"ZMB\"\n        ],\n        \"semantic_type\": \"\",\n        \"description\": \"\"\n      }\n    },\n    {\n      \"column\": \"Country\",\n      \"properties\": {\n        \"dtype\": \"string\",\n        \"num_unique_values\": 169,\n        \"samples\": [\n          \"Mauritania\",\n          \"Greece\",\n          \"Ghana\"\n        ],\n        \"semantic_type\": \"\",\n        \"description\": \"\"\n      }\n    },\n    {\n      \"column\": \"Human_development\",\n      \"properties\": {\n        \"dtype\": \"category\",\n        \"num_unique_values\": 4,\n        \"samples\": [\n          \"High\",\n          \"Low\",\n          \"Very high\"\n        ],\n        \"semantic_type\": \"\",\n        \"description\": \"\"\n      }\n    },\n    {\n      \"column\": \"GII\",\n      \"properties\": {\n        \"dtype\": \"number\",\n        \"std\": 0.19710529288811846,\n        \"min\": 0.013,\n        \"max\": 0.82,\n        \"num_unique_values\": 152,\n        \"samples\": [\n          0.303,\n          0.82,\n          0.419\n        ],\n        \"semantic_type\": \"\",\n        \"description\": \"\"\n      }\n    },\n    {\n      \"column\": \"Rank\",\n      \"properties\": {\n        \"dtype\": \"number\",\n        \"std\": 49.21020639567616,\n        \"min\": 1.0,\n        \"max\": 170.0,\n        \"num_unique_values\": 152,\n        \"samples\": [\n          73.0,\n          170.0,\n          101.0\n        ],\n        \"semantic_type\": \"\",\n        \"description\": \"\"\n      }\n    },\n    {\n      \"column\": \"Maternal_mortality\",\n      \"properties\": {\n        \"dtype\": \"number\",\n        \"std\": 234.0615654669088,\n        \"min\": 2.0,\n        \"max\": 1150.0,\n        \"num_unique_values\": 110,\n        \"samples\": [\n          766.0,\n          19.0,\n          7.0\n        ],\n        \"semantic_type\": \"\",\n        \"description\": \"\"\n      }\n    },\n    {\n      \"column\": \"Adolescent_birth_rate\",\n      \"properties\": {\n        \"dtype\": \"number\",\n        \"std\": 39.12694105325859,\n        \"min\": 1.9,\n        \"max\": 170.5,\n        \"num_unique_values\": 157,\n        \"samples\": [\n          117.0,\n          36.4,\n          101.7\n        ],\n        \"semantic_type\": \"\",\n        \"description\": \"\"\n      }\n    },\n    {\n      \"column\": \"Seats_parliament\",\n      \"properties\": {\n        \"dtype\": \"number\",\n        \"std\": 12.352020624377495,\n        \"min\": 0.0,\n        \"max\": 55.7,\n        \"num_unique_values\": 146,\n        \"samples\": [\n          9.1,\n          10.8,\n          35.3\n        ],\n        \"semantic_type\": \"\",\n        \"description\": \"\"\n      }\n    },\n    {\n      \"column\": \"F_secondary_educ\",\n      \"properties\": {\n        \"dtype\": \"number\",\n        \"std\": 29.863460538289313,\n        \"min\": 6.4,\n        \"max\": 100.0,\n        \"num_unique_values\": 151,\n        \"samples\": [\n          81.6,\n          82.2,\n          49.9\n        ],\n        \"semantic_type\": \"\",\n        \"description\": \"\"\n      }\n    },\n    {\n      \"column\": \"M_secondary_educ\",\n      \"properties\": {\n        \"dtype\": \"number\",\n        \"std\": 26.745613242291352,\n        \"min\": 13.0,\n        \"max\": 100.0,\n        \"num_unique_values\": 147,\n        \"samples\": [\n          55.3,\n          95.3,\n          19.7\n        ],\n        \"semantic_type\": \"\",\n        \"description\": \"\"\n      }\n    },\n    {\n      \"column\": \"F_Labour_force\",\n      \"properties\": {\n        \"dtype\": \"number\",\n        \"std\": 15.301781630193505,\n        \"min\": 6.0,\n        \"max\": 82.5,\n        \"num_unique_values\": 140,\n        \"samples\": [\n          61.0,\n          42.7,\n          54.0\n        ],\n        \"semantic_type\": \"\",\n        \"description\": \"\"\n      }\n    },\n    {\n      \"column\": \"M_Labour_force\",\n      \"properties\": {\n        \"dtype\": \"number\",\n        \"std\": 8.471585335259636,\n        \"min\": 43.9,\n        \"max\": 95.5,\n        \"num_unique_values\": 132,\n        \"samples\": [\n          63.6,\n          57.0,\n          71.4\n        ],\n        \"semantic_type\": \"\",\n        \"description\": \"\"\n      }\n    }\n  ]\n}"
            }
          },
          "metadata": {},
          "execution_count": 46
        }
      ]
    },
    {
      "cell_type": "markdown",
      "source": [
        "# Data Export"
      ],
      "metadata": {
        "id": "Et_AMQHp9RrR"
      }
    },
    {
      "cell_type": "code",
      "source": [
        "# Exporting processed data for further analysis in flourish\n",
        "\n",
        "gender_df.to_csv(\"Cleaned gender Data.csv\",index=False)"
      ],
      "metadata": {
        "id": "sgMo-4AF9Uf2"
      },
      "execution_count": null,
      "outputs": []
    },
    {
      "cell_type": "code",
      "source": [],
      "metadata": {
        "id": "r3f9PIor9ZVq"
      },
      "execution_count": null,
      "outputs": []
    }
  ]
}